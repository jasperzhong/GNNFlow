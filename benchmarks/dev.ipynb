{
 "cells": [
  {
   "cell_type": "code",
   "execution_count": 3,
   "metadata": {},
   "outputs": [],
   "source": [
    "import numpy as np\n",
    "def calculate_stack_distance(sequence, max_distance):\n",
    "    stack = {}\n",
    "    total_distance = 0\n",
    "\n",
    "    for ele in sequence:\n",
    "        if ele in stack:\n",
    "            distance = len(stack) - stack[ele]\n",
    "        else:\n",
    "            distance = max_distance\n",
    "\n",
    "        stack[ele] = len(stack)\n",
    "        total_distance += distance\n",
    "\n",
    "    return total_distance / len(sequence)\n",
    "\n",
    "def calculate_stack_distance_np(sequence, max_distance):\n",
    "    stack = np.full(max_distance * len(sequence), -1)\n",
    "    total_distance = 0\n",
    "    for i, ele in enumerate(sequence):\n",
    "        offset = max_distance * i\n",
    "\n",
    "        if stack[offset + ele] != -1:\n",
    "            distance = i - stack[offset + ele]\n",
    "        else:\n",
    "            distance = max_distance\n",
    "            stack[offset + ele] = i\n",
    "\n",
    "        total_distance += distance\n",
    "\n",
    "    return total_distance / len(sequence)"
   ]
  },
  {
   "cell_type": "code",
   "execution_count": 5,
   "metadata": {},
   "outputs": [
    {
     "name": "stderr",
     "output_type": "stream",
     "text": [
      "/home/yczhong/.conda/envs/jasper/lib/python3.8/site-packages/tqdm/auto.py:22: TqdmWarning: IProgress not found. Please update jupyter and ipywidgets. See https://ipywidgets.readthedocs.io/en/stable/user_install.html\n",
      "  from .autonotebook import tqdm as notebook_tqdm\n"
     ]
    }
   ],
   "source": [
    "from gnnflow.utils import build_dynamic_graph, load_dataset, mfgs_to_cuda\n"
   ]
  },
  {
   "cell_type": "code",
   "execution_count": 6,
   "metadata": {},
   "outputs": [],
   "source": [
    "_, _, _, df = load_dataset(\"REDDIT\")\n"
   ]
  },
  {
   "cell_type": "code",
   "execution_count": 10,
   "metadata": {},
   "outputs": [
    {
     "data": {
      "text/plain": [
       "<pandas.core.groupby.generic.DataFrameGroupBy object at 0x7fde54b74490>"
      ]
     },
     "execution_count": 10,
     "metadata": {},
     "output_type": "execute_result"
    }
   ],
   "source": [
    "df.sample(frac=1).reset_index(drop=True).groupby(df.index // 600)\n"
   ]
  },
  {
   "cell_type": "code",
   "execution_count": null,
   "metadata": {},
   "outputs": [],
   "source": []
  },
  {
   "cell_type": "code",
   "execution_count": 4,
   "metadata": {},
   "outputs": [
    {
     "name": "stdout",
     "output_type": "stream",
     "text": [
      "1.2\n",
      "2.0\n"
     ]
    }
   ],
   "source": [
    "arr = [1, 1, 2, 1, 1]\n",
    "\n",
    "print(calculate_stack_distance(arr, np.unique(arr).shape[0]))\n",
    "print(calculate_stack_distance_np(arr, np.unique(arr).shape[0]))"
   ]
  },
  {
   "cell_type": "code",
   "execution_count": null,
   "metadata": {},
   "outputs": [],
   "source": []
  }
 ],
 "metadata": {
  "kernelspec": {
   "display_name": "jasper",
   "language": "python",
   "name": "python3"
  },
  "language_info": {
   "codemirror_mode": {
    "name": "ipython",
    "version": 3
   },
   "file_extension": ".py",
   "mimetype": "text/x-python",
   "name": "python",
   "nbconvert_exporter": "python",
   "pygments_lexer": "ipython3",
   "version": "3.8.12"
  },
  "orig_nbformat": 4
 },
 "nbformat": 4,
 "nbformat_minor": 2
}
