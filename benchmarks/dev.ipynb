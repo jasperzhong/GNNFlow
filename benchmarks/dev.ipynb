{
 "cells": [
  {
   "cell_type": "code",
   "execution_count": 9,
   "metadata": {},
   "outputs": [],
   "source": [
    "import numpy as np\n",
    "import itertools\n",
    "import os\n",
    "\n"
   ]
  },
  {
   "cell_type": "code",
   "execution_count": 13,
   "metadata": {},
   "outputs": [
    {
     "name": "stdout",
     "output_type": "stream",
     "text": [
      "Sampling throughput of tgn on WIKI speedup: 11.95\n",
      "Sampling throughput of tgn on REDDIT speedup: 23.18\n",
      "Sampling throughput of tgn on MOOC speedup: 15.63\n",
      "Sampling throughput of tgn on LASTFM speedup: 18.76\n",
      "Sampling throughput of tgat on WIKI speedup: 32.40\n",
      "Sampling throughput of tgat on REDDIT speedup: 81.71\n",
      "Sampling throughput of tgat on MOOC speedup: 58.98\n",
      "Sampling throughput of tgat on LASTFM speedup: 94.81\n",
      "Sampling throughput of dysat on WIKI speedup: -53.69\n",
      "Sampling throughput of dysat on REDDIT speedup: -14.98\n",
      "Sampling throughput of dysat on MOOC speedup: -63.09\n",
      "Sampling throughput of dysat on LASTFM speedup: 13.01\n",
      "Sampling throughput of graphsage on WIKI speedup: 47.95\n",
      "Sampling throughput of graphsage on REDDIT speedup: 107.51\n",
      "Sampling throughput of graphsage on MOOC speedup: 27.68\n",
      "Sampling throughput of graphsage on LASTFM speedup: 125.78\n"
     ]
    }
   ],
   "source": [
    "\n",
    "models = ['TGN', 'TGAT', 'DySAT', 'GRAPHSAGE']\n",
    "datasets = ['WIKI', 'REDDIT', 'MOOC', 'LASTFM']\n",
    "\n",
    "for model, dataset in itertools.product(models, datasets):\n",
    "    model = model.lower()\n",
    "    subdir_baseline = 'tmp_res/sampling/'\n",
    "    subdir_nextdoor = 'tmp_res/sampling_nextdoor/'\n",
    "    throughput_baseline = np.load(os.path.join(subdir_baseline, f'sampling_throughput_{model}_{dataset}.npy'))\n",
    "    throughput_nextdoor = np.load(os.path.join(subdir_nextdoor, f'sampling_throughput_{model}_{dataset}.npy'))\n",
    "    print(f'Sampling throughput of {model} on {dataset} speedup: {(throughput_nextdoor / throughput_baseline - 1)* 100:.2f}')\n"
   ]
  },
  {
   "cell_type": "code",
   "execution_count": null,
   "metadata": {},
   "outputs": [],
   "source": []
  }
 ],
 "metadata": {
  "kernelspec": {
   "display_name": "jasper",
   "language": "python",
   "name": "python3"
  },
  "language_info": {
   "codemirror_mode": {
    "name": "ipython",
    "version": 3
   },
   "file_extension": ".py",
   "mimetype": "text/x-python",
   "name": "python",
   "nbconvert_exporter": "python",
   "pygments_lexer": "ipython3",
   "version": "3.8.12"
  },
  "orig_nbformat": 4
 },
 "nbformat": 4,
 "nbformat_minor": 2
}
