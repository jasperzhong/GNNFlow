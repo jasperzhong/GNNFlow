{
 "cells": [
  {
   "cell_type": "code",
   "execution_count": 4,
   "metadata": {},
   "outputs": [
    {
     "name": "stderr",
     "output_type": "stream",
     "text": [
      "/home/yczhong/.conda/envs/jasper/lib/python3.8/site-packages/tqdm/auto.py:22: TqdmWarning: IProgress not found. Please update jupyter and ipywidgets. See https://ipywidgets.readthedocs.io/en/stable/user_install.html\n",
      "  from .autonotebook import tqdm as notebook_tqdm\n"
     ]
    },
    {
     "ename": "FileNotFoundError",
     "evalue": "[Errno 2] No such file or directory: 'TGN_GDELT_node_to_cnt.pt'",
     "output_type": "error",
     "traceback": [
      "\u001b[0;31m---------------------------------------------------------------------------\u001b[0m",
      "\u001b[0;31mFileNotFoundError\u001b[0m                         Traceback (most recent call last)",
      "Cell \u001b[0;32mIn[4], line 25\u001b[0m\n\u001b[1;32m     22\u001b[0m fig\u001b[39m.\u001b[39msubplots_adjust(hspace\u001b[39m=\u001b[39m\u001b[39m0.5\u001b[39m, wspace\u001b[39m=\u001b[39m\u001b[39m0.1\u001b[39m)\n\u001b[1;32m     24\u001b[0m \u001b[39mfor\u001b[39;00m idx, param \u001b[39min\u001b[39;00m \u001b[39menumerate\u001b[39m(param_space):\n\u001b[0;32m---> 25\u001b[0m     node_to_cnt \u001b[39m=\u001b[39m torch\u001b[39m.\u001b[39;49mload(\u001b[39m\"\u001b[39;49m\u001b[39m{}\u001b[39;49;00m\u001b[39m_\u001b[39;49m\u001b[39m{}\u001b[39;49;00m\u001b[39m_node_to_cnt.pt\u001b[39;49m\u001b[39m\"\u001b[39;49m\u001b[39m.\u001b[39;49mformat(\u001b[39m*\u001b[39;49mparam))\n\u001b[1;32m     26\u001b[0m     edge_to_cnt \u001b[39m=\u001b[39m torch\u001b[39m.\u001b[39mload(\u001b[39m\"\u001b[39m\u001b[39m{}\u001b[39;00m\u001b[39m_\u001b[39m\u001b[39m{}\u001b[39;00m\u001b[39m_edge_to_cnt.pt\u001b[39m\u001b[39m\"\u001b[39m\u001b[39m.\u001b[39mformat(\u001b[39m*\u001b[39mparam))\n\u001b[1;32m     28\u001b[0m     \u001b[39mdef\u001b[39;00m \u001b[39mlog_rank_freq\u001b[39m(data, ax, \u001b[39mtype\u001b[39m):\n",
      "File \u001b[0;32m~/.conda/envs/jasper/lib/python3.8/site-packages/torch/serialization.py:699\u001b[0m, in \u001b[0;36mload\u001b[0;34m(f, map_location, pickle_module, **pickle_load_args)\u001b[0m\n\u001b[1;32m    696\u001b[0m \u001b[39mif\u001b[39;00m \u001b[39m'\u001b[39m\u001b[39mencoding\u001b[39m\u001b[39m'\u001b[39m \u001b[39mnot\u001b[39;00m \u001b[39min\u001b[39;00m pickle_load_args\u001b[39m.\u001b[39mkeys():\n\u001b[1;32m    697\u001b[0m     pickle_load_args[\u001b[39m'\u001b[39m\u001b[39mencoding\u001b[39m\u001b[39m'\u001b[39m] \u001b[39m=\u001b[39m \u001b[39m'\u001b[39m\u001b[39mutf-8\u001b[39m\u001b[39m'\u001b[39m\n\u001b[0;32m--> 699\u001b[0m \u001b[39mwith\u001b[39;00m _open_file_like(f, \u001b[39m'\u001b[39;49m\u001b[39mrb\u001b[39;49m\u001b[39m'\u001b[39;49m) \u001b[39mas\u001b[39;00m opened_file:\n\u001b[1;32m    700\u001b[0m     \u001b[39mif\u001b[39;00m _is_zipfile(opened_file):\n\u001b[1;32m    701\u001b[0m         \u001b[39m# The zipfile reader is going to advance the current file position.\u001b[39;00m\n\u001b[1;32m    702\u001b[0m         \u001b[39m# If we want to actually tail call to torch.jit.load, we need to\u001b[39;00m\n\u001b[1;32m    703\u001b[0m         \u001b[39m# reset back to the original position.\u001b[39;00m\n\u001b[1;32m    704\u001b[0m         orig_position \u001b[39m=\u001b[39m opened_file\u001b[39m.\u001b[39mtell()\n",
      "File \u001b[0;32m~/.conda/envs/jasper/lib/python3.8/site-packages/torch/serialization.py:230\u001b[0m, in \u001b[0;36m_open_file_like\u001b[0;34m(name_or_buffer, mode)\u001b[0m\n\u001b[1;32m    228\u001b[0m \u001b[39mdef\u001b[39;00m \u001b[39m_open_file_like\u001b[39m(name_or_buffer, mode):\n\u001b[1;32m    229\u001b[0m     \u001b[39mif\u001b[39;00m _is_path(name_or_buffer):\n\u001b[0;32m--> 230\u001b[0m         \u001b[39mreturn\u001b[39;00m _open_file(name_or_buffer, mode)\n\u001b[1;32m    231\u001b[0m     \u001b[39melse\u001b[39;00m:\n\u001b[1;32m    232\u001b[0m         \u001b[39mif\u001b[39;00m \u001b[39m'\u001b[39m\u001b[39mw\u001b[39m\u001b[39m'\u001b[39m \u001b[39min\u001b[39;00m mode:\n",
      "File \u001b[0;32m~/.conda/envs/jasper/lib/python3.8/site-packages/torch/serialization.py:211\u001b[0m, in \u001b[0;36m_open_file.__init__\u001b[0;34m(self, name, mode)\u001b[0m\n\u001b[1;32m    210\u001b[0m \u001b[39mdef\u001b[39;00m \u001b[39m__init__\u001b[39m(\u001b[39mself\u001b[39m, name, mode):\n\u001b[0;32m--> 211\u001b[0m     \u001b[39msuper\u001b[39m(_open_file, \u001b[39mself\u001b[39m)\u001b[39m.\u001b[39m\u001b[39m__init__\u001b[39m(\u001b[39mopen\u001b[39;49m(name, mode))\n",
      "\u001b[0;31mFileNotFoundError\u001b[0m: [Errno 2] No such file or directory: 'TGN_GDELT_node_to_cnt.pt'"
     ]
    },
    {
     "data": {
      "image/png": "[encoded data removed]",
      "text/plain": [
       "<Figure size 1512x1008 with 6 Axes>"
      ]
     },
     "metadata": {
      "needs_background": "light"
     },
     "output_type": "display_data"
    }
   ],
   "source": [
    "import matplotlib.pyplot as plt\n",
    "import numpy as np \n",
    "from scipy.stats import expon\n",
    "from scipy.stats import norm\n",
    "from scipy.stats import skewnorm\n",
    "from scipy.stats import skew\n",
    "\n",
    "import torch\n",
    "import itertools\n",
    "\n",
    "models = ['TGN', 'TGAT', 'GRAPHSAGE']\n",
    "datasets = ['GDELT']\n",
    "\n",
    "\n",
    "param_space = list(itertools.product(\n",
    "    models, datasets))\n",
    "\n",
    "nrow = len(param_space)\n",
    "ncol = 2\n",
    "fig, axes = plt.subplots(nrow, ncol, figsize=(nrow*7, ncol*7))\n",
    "# set margin\n",
    "fig.subplots_adjust(hspace=0.5, wspace=0.1)\n",
    "\n",
    "for idx, param in enumerate(param_space):\n",
    "    node_to_cnt = torch.load(\"{}_{}_node_to_cnt.pt\".format(*param))\n",
    "    edge_to_cnt = torch.load(\"{}_{}_edge_to_cnt.pt\".format(*param))\n",
    "\n",
    "    def log_rank_freq(data, ax, type):\n",
    "        values = data.cpu().numpy()\n",
    "        values = values[values > 0]\n",
    "        values = np.sort(values)[::-1]\n",
    "        cutoff = np.percentile(values, 95)\n",
    "        values = values[values > cutoff]\n",
    "        ranks = range(1, len(values)+1)\n",
    "\n",
    "        x = np.log10(ranks)\n",
    "        y = np.log10(values)\n",
    "        \n",
    "        coeffs = np.polyfit(x, y, 1)\n",
    "        alpha = coeffs[0]\n",
    "        C = 10**coeffs[1]\n",
    "        print(alpha, coeffs[1])\n",
    "\n",
    "        ax.scatter(ranks, values, s=15)\n",
    "\n",
    "        x = np.logspace(np.log10(ranks[0]), np.log10(ranks[-1]), num=len(ranks))\n",
    "        y = C * x**(alpha) \n",
    "        ax.loglog(x, y, linestyle='--', color='r')\n",
    "        ax.grid(axis='y')\n",
    "        ax.set_xlabel(\"Node Log Rank\")\n",
    "        ax.set_ylabel(\"Log Occuerence\")\n",
    "        ax.set_title(\"Distribution of access parttern of nodes for training {} on {}\".format(*param))\n",
    "\n",
    "    def hist(data, ax, label, model):\n",
    "        data = data.cpu().numpy()\n",
    "        print(np.max(data))\n",
    "        ax.hist(data, bins=1000, density=True)\n",
    "        ax.set_xlabel('# {} Occuerence'.format(label))\n",
    "        ax.set_ylabel('{} Frequency'.format(label))\n",
    "        cutoff = np.percentile(data, 99.9)\n",
    "        print(cutoff)\n",
    "        ax.set_xlim((0, cutoff))\n",
    "        ax.grid(axis='y')\n",
    "        ax.set_title(\"Distribution of access parttern of edges for training {} on {}\".format(*param))\n",
    "\n",
    "        if model == \"TGN\":\n",
    "            pass\n",
    "        elif model  == \"TGAT\":\n",
    "            loc, scale = expon.fit(data)\n",
    "            pdf = expon.pdf(np.linspace(5, max(data), 1000), loc, scale)\n",
    "            ax.plot(np.linspace(5, max(data), 1000), pdf, 'r--', linewidth=2)\n",
    "            print(\"lambda = {:.4f}\".format(1/scale))\n",
    "        elif model == \"GRAPHSAGE\":\n",
    "            skew_param = skewnorm.fit(data)\n",
    "            pdf = skewnorm.pdf(np.linspace(0, cutoff, 100), *skew_param)\n",
    "\n",
    "            ax.plot(np.linspace(0, cutoff ,100), pdf, 'r-', linewidth=2)\n",
    "        \n",
    "\n",
    "    log_rank_freq(node_to_cnt, axes[idx][0], 'Node')\n",
    "    hist(edge_to_cnt, axes[idx][1], 'Edge', param[0])\n",
    "\n",
    "plt.show()"
   ]
  },
  {
   "cell_type": "code",
   "execution_count": 1,
   "metadata": {},
   "outputs": [],
   "source": [
    "def calculate_stack_distance(sequence, max_distance):\n",
    "    stack = {}\n",
    "    total_distance = 0\n",
    "\n",
    "    for ele in sequence:\n",
    "        if ele in stack:\n",
    "            distance = len(stack) - stack[ele]\n",
    "        else:\n",
    "            distance = max_distance\n",
    "\n",
    "        stack[ele] = len(stack)\n",
    "        total_distance += distance\n",
    "\n",
    "    return total_distance / len(sequence)"
   ]
  },
  {
   "cell_type": "code",
   "execution_count": 9,
   "metadata": {},
   "outputs": [
    {
     "data": {
      "text/plain": [
       "1.2"
      ]
     },
     "execution_count": 9,
     "metadata": {},
     "output_type": "execute_result"
    }
   ],
   "source": [
    "arr = [1, 1, 2, 1, 1]\n",
    "\n",
    "calculate_stack_distance(arr, np.unique(arr).shape[0])"
   ]
  },
  {
   "cell_type": "code",
   "execution_count": null,
   "metadata": {},
   "outputs": [],
   "source": [
    "import itertools\n",
    "import os\n",
    "\n",
    "models = ['TGN', 'TGAT', 'GRAPHSAGE']\n",
    "datasets = ['WIKI', 'REDDIT', 'MOOC', 'LASTFM']\n",
    "\n",
    "param_space = itertools.product(\n",
    "    models, datasets)\n",
    "sub_dir = \"tmp_res/\"\n",
    "\n",
    "for param in param_space:\n",
    "    node_sequence = torch.load(sub_dir+\"{}_{}_node_sequence.pt\".format()).numpy()\n",
    "    edge_sequence = torch.load(sub_dir+\"{}_{}_edge_sequence.pt\".format()).numpy()\n",
    "                               \n",
    "    node_stack_distance = calculate_stack_distance(node_sequence, np.unique(node_sequence).shape[0])\n",
    "    edge_stack_distance = calculate_stack_distance(edge_sequence, np.unique(edge_sequence).shape[0])\n",
    "\n",
    "    print(\"Node stack distance for {} on {}: {}\".format(*param, node_stack_distance))"
   ]
  }
 ],
 "metadata": {
  "kernelspec": {
   "display_name": "jasper",
   "language": "python",
   "name": "python3"
  },
  "language_info": {
   "codemirror_mode": {
    "name": "ipython",
    "version": 3
   },
   "file_extension": ".py",
   "mimetype": "text/x-python",
   "name": "python",
   "nbconvert_exporter": "python",
   "pygments_lexer": "ipython3",
   "version": "3.8.12"
  },
  "orig_nbformat": 4
 },
 "nbformat": 4,
 "nbformat_minor": 2
}
